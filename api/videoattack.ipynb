{
 "cells": [
  {
   "cell_type": "code",
   "execution_count": 1,
   "metadata": {},
   "outputs": [
    {
     "name": "stderr",
     "output_type": "stream",
     "text": [
      "Using TensorFlow backend.\n",
      "/home/ec2-user/anaconda3/envs/para/lib/python3.6/site-packages/tensorflow/python/framework/dtypes.py:519: FutureWarning: Passing (type, 1) or '1type' as a synonym of type is deprecated; in a future version of numpy, it will be understood as (type, (1,)) / '(1,)type'.\n",
      "  _np_qint8 = np.dtype([(\"qint8\", np.int8, 1)])\n",
      "/home/ec2-user/anaconda3/envs/para/lib/python3.6/site-packages/tensorflow/python/framework/dtypes.py:520: FutureWarning: Passing (type, 1) or '1type' as a synonym of type is deprecated; in a future version of numpy, it will be understood as (type, (1,)) / '(1,)type'.\n",
      "  _np_quint8 = np.dtype([(\"quint8\", np.uint8, 1)])\n",
      "/home/ec2-user/anaconda3/envs/para/lib/python3.6/site-packages/tensorflow/python/framework/dtypes.py:521: FutureWarning: Passing (type, 1) or '1type' as a synonym of type is deprecated; in a future version of numpy, it will be understood as (type, (1,)) / '(1,)type'.\n",
      "  _np_qint16 = np.dtype([(\"qint16\", np.int16, 1)])\n",
      "/home/ec2-user/anaconda3/envs/para/lib/python3.6/site-packages/tensorflow/python/framework/dtypes.py:522: FutureWarning: Passing (type, 1) or '1type' as a synonym of type is deprecated; in a future version of numpy, it will be understood as (type, (1,)) / '(1,)type'.\n",
      "  _np_quint16 = np.dtype([(\"quint16\", np.uint16, 1)])\n",
      "/home/ec2-user/anaconda3/envs/para/lib/python3.6/site-packages/tensorflow/python/framework/dtypes.py:523: FutureWarning: Passing (type, 1) or '1type' as a synonym of type is deprecated; in a future version of numpy, it will be understood as (type, (1,)) / '(1,)type'.\n",
      "  _np_qint32 = np.dtype([(\"qint32\", np.int32, 1)])\n",
      "/home/ec2-user/anaconda3/envs/para/lib/python3.6/site-packages/tensorflow/python/framework/dtypes.py:528: FutureWarning: Passing (type, 1) or '1type' as a synonym of type is deprecated; in a future version of numpy, it will be understood as (type, (1,)) / '(1,)type'.\n",
      "  np_resource = np.dtype([(\"resource\", np.ubyte, 1)])\n"
     ]
    },
    {
     "name": "stdout",
     "output_type": "stream",
     "text": [
      "1\n"
     ]
    }
   ],
   "source": [
    "from tog.dataset_utils.preprocessing import letterbox_image_padded\n",
    "from keras import backend as K\n",
    "from tog.models.yolov3 import YOLOv3_Darknet53_Face\n",
    "from tog.tog.attacks import *\n",
    "import tensorflow as tf\n",
    "\n",
    "K.clear_session()\n",
    "global graph\n",
    "graph = tf.get_default_graph()\n",
    "\n",
    "tf_config = tf.ConfigProto()\n",
    "tf_config.gpu_options.allow_growth = True\n",
    "session = tf.Session(config=tf_config)\n",
    "\n",
    "\n",
    "weights = \"tog/model_weights/yolo_face.h5\"\n",
    "detector = YOLOv3_Darknet53_Face(weights=weights)\n",
    "\n"
   ]
  },
  {
   "cell_type": "code",
   "execution_count": 2,
   "metadata": {},
   "outputs": [],
   "source": [
    "# 모든 사이즈 공격 가능\n",
    "def attack(input):\n",
    "    w, h = input.size\n",
    "    newsize = (w + 416, h + 416)\n",
    "    new_image = Image.new(\"RGB\", newsize, (0, 0, 0))\n",
    "    for x in range(0, w, 416):\n",
    "        for y in range(0, h, 416):\n",
    "            area = (x, y, x + 416, y + 416)\n",
    "            cropped_img = input.crop(area)\n",
    "            rgb = Image.new(\"RGB\", (416, 416), (0, 0, 0))\n",
    "            rgb.paste(cropped_img, (0, 0))\n",
    "            cropped_noise = attack416(rgb)\n",
    "            new_image.paste(cropped_noise, (x, y))\n",
    "    area = (0, 0, w, h)\n",
    "    output = new_image.crop(area)\n",
    "    return output\n",
    "\n",
    "\n",
    "# 416*416인 이미지만 공격가능\n",
    "def attack416(input):\n",
    "    eps = 8 / 255.0\n",
    "    eps_iter = 2 / 255.0\n",
    "    n_iter = 10\n",
    "    npimg = np.asarray(input)[np.newaxis, :, :, :] / 255.0\n",
    "    with graph.as_default():\n",
    "        x_adv_untargeted = tog_untargeted(\n",
    "            victim=detector, x_query=npimg, n_iter=n_iter, eps=eps, eps_iter=eps_iter\n",
    "        )\n",
    "    img = x_adv_untargeted[0] * 255\n",
    "    output = Image.fromarray(img.astype(\"uint8\"), \"RGB\")\n",
    "    return output"
   ]
  },
  {
   "cell_type": "code",
   "execution_count": 21,
   "metadata": {},
   "outputs": [
    {
     "name": "stdout",
     "output_type": "stream",
     "text": [
      "src.mp4\r\n"
     ]
    }
   ],
   "source": [
    "# !pip3 install opencv-python"
   ]
  },
  {
   "cell_type": "code",
   "execution_count": 3,
   "metadata": {},
   "outputs": [
    {
     "name": "stdout",
     "output_type": "stream",
     "text": [
      "0/345.0\n",
      "15/345.0\n",
      "30/345.0\n",
      "45/345.0\n",
      "60/345.0\n",
      "75/345.0\n",
      "90/345.0\n",
      "105/345.0\n",
      "120/345.0\n",
      "135/345.0\n",
      "150/345.0\n",
      "165/345.0\n",
      "180/345.0\n",
      "195/345.0\n",
      "210/345.0\n",
      "225/345.0\n",
      "240/345.0\n",
      "255/345.0\n",
      "270/345.0\n",
      "285/345.0\n",
      "300/345.0\n",
      "315/345.0\n",
      "330/345.0\n"
     ]
    }
   ],
   "source": [
    "import numpy as np\n",
    "import cv2\n",
    "from PIL import Image\n",
    "%matplotlib inline\n",
    "video_file_path = \"video/src.mp4\"  # 최종은 input_video로.\n",
    "cap = cv2.VideoCapture(video_file_path)\n",
    "# For VideoWriter\n",
    "fourcc = cv2.VideoWriter_fourcc(*\"mp4v\")\n",
    "frame_count = cap.get(cv2.CAP_PROP_FRAME_COUNT)\n",
    "frame_w = cap.get(cv2.CAP_PROP_FRAME_WIDTH)\n",
    "frame_h = cap.get(cv2.CAP_PROP_FRAME_HEIGHT)\n",
    "FPS = cap.get(cv2.CAP_PROP_FPS)\n",
    "untarget_out = cv2.VideoWriter(\"video/src_attacked.mp4\", fourcc, FPS, (int(frame_w), int(frame_h)))\n",
    "\n",
    "i = 0\n",
    "while cap.isOpened():e\n",
    "    ret, frame = cap.read()  # ret = T/F , frame = ndarray(shape: (256,256,3))\n",
    "    if ret:\n",
    "        frame = cv2.cvtColor(frame,cv2.COLOR_BGR2RGB)\n",
    "        frame = Image.fromarray(frame)\n",
    "        untargetedFrame = attack(frame)  # 이미지 반전(0:상하) -> adv 어택.\n",
    "\n",
    "        untargetedFrame = np.asarray(untargetedFrame)\n",
    "        untargetedFrame = untargetedFrame[:, :, ::-1]\n",
    "        # cv2.imshow(\"asdf\",np.asarray(untargetedFrame))\n",
    "        # cv2.waitKey() \n",
    "        # cv2.destroyAllWindows()\n",
    "        if i % 15 == 0:\n",
    "            print(f'{i}/{frame_count}')\n",
    "        i+=1\n",
    "        untarget_out.write(untargetedFrame)\n",
    "        if cv2.waitKey(25) == ord(\"q\"):\n",
    "            break\n",
    "    else:\n",
    "        break\n",
    "cap.release()\n",
    "untarget_out.release()\n",
    "cv2.destroyAllWindows()"
   ]
  },
  {
   "cell_type": "code",
   "execution_count": 9,
   "metadata": {},
   "outputs": [],
   "source": [
    "import matplotlib.pyplot as plt"
   ]
  },
  {
   "cell_type": "code",
   "execution_count": null,
   "metadata": {},
   "outputs": [],
   "source": []
  }
 ],
 "metadata": {
  "kernelspec": {
   "display_name": "Python 3",
   "language": "python",
   "name": "python3"
  },
  "language_info": {
   "codemirror_mode": {
    "name": "ipython",
    "version": 3
   },
   "file_extension": ".py",
   "mimetype": "text/x-python",
   "name": "python",
   "nbconvert_exporter": "python",
   "pygments_lexer": "ipython3",
   "version": "3.6.13"
  }
 },
 "nbformat": 4,
 "nbformat_minor": 2
}
